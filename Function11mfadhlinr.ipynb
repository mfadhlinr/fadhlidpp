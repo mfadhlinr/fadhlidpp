{
  "cells": [
    {
      "cell_type": "markdown",
      "metadata": {
        "id": "2MD-s3jru9e1"
      },
      "source": [
        "<h2>Pengertian</h2>\n",
        "<ol>\n",
        "    <li>Fungsi pada python adalah kumpulan perintah atau baris kode yang dikelompokkan menjadi satu kesatuan untuk kemudian bisa dipanggil atau digunakan berkali-kali.</li>\n",
        "    <li>Sebuah fungsi dapat menerima parameter, dapat mengembalikan suatu nilai, dan dapat dipanggil berkali-kali secara independen.</li>\n",
        "</ol>\n",
        "<hr>\n",
        "<h2>Keuntungan</h2>\n",
        "<ol>\n",
        "    <li>Membagi kode program menjadi bagian-bagian kecil dengan tugasnya masing-masing.</li>\n",
        "    <li>Membuat kode program menjadi lebih “reusable” dan lebih terstruktur.</li>\n",
        "</ol>\n",
        "<hr>\n",
        "<h2>Sintaks</h2>\n",
        "\n",
        "```python\n",
        "def function_name():\n",
        "    Logic Program\n",
        "```\n",
        "Cara memanggil fungsi dengan menuliskan function_name diikuti kurung buka tutup () beserta parameter jika ada\n",
        "\n",
        "```python\n",
        "    function_name()\n",
        "```\n",
        "<hr>\n",
        "Buatlah fungsi dengan nama \"helloPython\" yang berfungsi untuk mencetak \"Welcome in Python Language\" "
      ]
    },
    {
      "cell_type": "code",
      "execution_count": 7,
      "metadata": {
        "colab": {
          "base_uri": "https://localhost:8080/"
        },
        "id": "wlW5vpoMu9e5",
        "outputId": "9e28bd23-f2dd-4bf8-8acf-55e1146422b5"
      },
      "outputs": [
        {
          "name": "stdout",
          "output_type": "stream",
          "text": [
            "Welcome in Python Language\n",
            "Welcome in Python Language\n",
            "Welcome in Python Language\n"
          ]
        }
      ],
      "source": [
        "def helloPython():\n",
        "    print( \"Welcome in Python Language\")\n",
        "\n",
        "helloPython()\n",
        "helloPython()\n",
        "helloPython()\n"
      ]
    },
    {
      "cell_type": "markdown",
      "metadata": {
        "id": "7iCfaIRvu9e5"
      },
      "source": [
        "<h1>Fungsi dengan parameter</h1>\n",
        "Sebuah fungsi dapat menerima parameter ataupun argumen yang merupakan suatu nilai/variabel yang dilemparkan ke dalam fungsi untuk diproses lebih lanjut.\n",
        "\n",
        "<h2>Sintaks</h2>\n",
        "\n",
        "```python\n",
        "def function_name(param):\n",
        "    Logic Program\n",
        "```\n",
        "Cara memanggil fungsi dengan menuliskan function_name diikuti kurung buka tutup () beserta parameter\n",
        "\n",
        "```python\n",
        "    function_name(param)\n",
        "```\n",
        "<hr>"
      ]
    },
    {
      "cell_type": "markdown",
      "metadata": {
        "id": "6QHubrjku9e6"
      },
      "source": [
        "Buatlah fungsi dengan nama \"fullName\" yang mempunyai parameter \"firstname\" dan \"lastname\" digunakan untuk mencetak \"firstname\" dan \"lastname\""
      ]
    },
    {
      "cell_type": "code",
      "execution_count": 7,
      "metadata": {
        "colab": {
          "base_uri": "https://localhost:8080/"
        },
        "id": "fHrVNyUSu9e6",
        "outputId": "5eea2173-7964-44d9-d9b0-28bdf908861f"
      },
      "outputs": [
        {
          "name": "stdout",
          "output_type": "stream",
          "text": [
            "nama full anda adalah muhamad fadhli  nurdiansyah rangkuti\n"
          ]
        }
      ],
      "source": [
        "def fullName(firstName=input('masukan nama depan anda: '),lastName=input('masukan nama belakang anda: ')):\n",
        "    print(f\"nama full anda adalah {firstName} {lastName}\")\n",
        "\n",
        "fullName()\n"
      ]
    },
    {
      "cell_type": "markdown",
      "metadata": {
        "id": "OrqZKXFdu9e6"
      },
      "source": [
        "Parameter fungsi diperbolehkan menggunakan lebih dari 1, dimana paramater tersebut ada yang wajib harus diisi dan ada yang tidak harus diisi\n",
        "\n",
        "```python\n",
        "def function_name(param_1, param_2, param_3,....):\n",
        "    Logic Program\n",
        "```\n",
        "\n",
        "Cara memanggil fungsi dengan menuliskan function_name diikuti kurung buka tutup () beserta parameter\n",
        "\n",
        "```python\n",
        "    function_name(param_1, param_2, param_3)\n",
        "```\n",
        "<hr>\n",
        "Buatlah fungsi dengan nama maxValue yang mempunyai parameter \"val_1\",\"val_2\" dan \"val_3\" yang bertujuan untuk mencari nilai terbesar dari 3 nilai tersebut"
      ]
    },
    {
      "cell_type": "code",
      "execution_count": 13,
      "metadata": {
        "colab": {
          "base_uri": "https://localhost:8080/"
        },
        "id": "hh_q9WXDu9e7",
        "outputId": "572d6c9a-28f6-43d9-f0f5-9ca598592e07"
      },
      "outputs": [
        {
          "name": "stdout",
          "output_type": "stream",
          "text": [
            "masukan nomor pertama: 20\n",
            "masukan nomor kedua: 22\n",
            "masukan nomor ketiga: 32\n",
            "angka terbesar adalah 32\n"
          ]
        }
      ],
      "source": [
        "11\n",
        "def maxValue(vall1=input('masukan nomor pertama: '), vall2=input('masukan nomor kedua: '),vall3=input('masukan nomor ketiga: ')):\n",
        "    if vall1 and vall3 < vall2:\n",
        "        print(f'angka terbesar adalah {vall2}')\n",
        "    elif vall1 and vall2 < vall3:\n",
        "        print(f'angka terbesar adalah {vall3}')\n",
        "    else:\n",
        "        print(f'angka terbesar adalah {vall1}')\n",
        "\n",
        "maxValue()"
      ]
    },
    {
      "cell_type": "markdown",
      "metadata": {
        "id": "_jKVt0cSu9e7"
      },
      "source": [
        "Parameter opsional digunakan pada fungsi dengan cara memberikan nilai default, artinya nilai parameter sudah diberikan terlebih dahulu tanpa dipanggil\n",
        "\n",
        "```python\n",
        "def function_name(param_1, param_2, param_3 = 'Nilai'):\n",
        "    Logic Program\n",
        "```"
      ]
    },
    {
      "cell_type": "markdown",
      "metadata": {
        "id": "51Il8LzDu9e8"
      },
      "source": [
        "Buatlah fungsi \"countCircleArea\" dengan 2 parameter yaitu \"phi\" dan \"diameter\" dimana parameter phi mempunyai nilai default 3.14"
      ]
    },
    {
      "cell_type": "code",
      "execution_count": 6,
      "metadata": {
        "colab": {
          "base_uri": "https://localhost:8080/"
        },
        "id": "xnNJB6dbu9e8",
        "outputId": "3d5ba85a-1568-430f-bdd1-538fdbc2fd45"
      },
      "outputs": [
        {
          "name": "stdout",
          "output_type": "stream",
          "text": [
            "masukan diameter lingkaran yang akan di hitung: 24.00\n",
            "luas lingkarannya adalah: 75.36\n"
          ]
        }
      ],
      "source": [
        "def countCircleArea (phi=3.14,diameter= float(input('masukan diameter lingkaran yang akan di hitung: '))):\n",
        "  luasLingkaran = phi*diameter\n",
        "  print(f'luas lingkarannya adalah: {luasLingkaran}')\n",
        "\n",
        "countCircleArea()\n"
      ]
    },
    {
      "cell_type": "markdown",
      "metadata": {
        "id": "ms0LREtLu9e8"
      },
      "source": [
        "Fungsi dengan 2 Parameter opsional juga dapat dilakukan pada Python. \n",
        "\n",
        "```python\n",
        "def info(suhu, daerah='Sukabumi', satuan = 'Celcius'):\n",
        "    print(f\"Suhu sekarang di {daerah} : {suhu} {satuan} \")\n",
        "```\n",
        "Adapun Cara memanggilnya\n",
        "\n",
        "```python\n",
        "    info(30)\n",
        "```"
      ]
    },
    {
      "cell_type": "code",
      "execution_count": 14,
      "metadata": {
        "colab": {
          "base_uri": "https://localhost:8080/"
        },
        "id": "cULXm7GEu9e9",
        "outputId": "0f4fd853-7d2b-481e-9830-2e06774e0247"
      },
      "outputs": [
        {
          "name": "stdout",
          "output_type": "stream",
          "text": [
            "Suhu sekarang di Sukabumi : 39 Celcius \n"
          ]
        }
      ],
      "source": [
        "#Cobalah fungsi tersebut pada area kode disini\n",
        "def info(suhu, daerah='Sukabumi', satuan = 'Celcius'):\n",
        "    print(f\"Suhu sekarang di {daerah} : {suhu} {satuan} \")\n",
        "\n",
        "info(39)"
      ]
    },
    {
      "cell_type": "markdown",
      "metadata": {
        "id": "jP6vSHzwu9e9"
      },
      "source": [
        "<h1>Fungsi dengan Return Value</h1>\n",
        "\n",
        "Yaitu fungsi dimana akhir dari programnya adalah nilai kembalian atau nilai balik. Artinya nilai dalam fungsi dapat ditampung lagi ke variabel lain untuk digunakan operasi lebih lanjut.\n",
        "\n",
        "Buatlah fungsi dengan return value yang digunakan untuk mengecek sebuah bilangan termasuk bilangan negatif, bilangan neteral(0) dan bilangan positif"
      ]
    },
    {
      "cell_type": "code",
      "execution_count": 2,
      "metadata": {
        "colab": {
          "base_uri": "https://localhost:8080/"
        },
        "id": "cSRgaMYBu9e9",
        "outputId": "5536e74d-ed4f-4adf-c4e6-094f40fe30c4"
      },
      "outputs": [
        {
          "name": "stdout",
          "output_type": "stream",
          "text": [
            "masukan angka pertama yang ingin di check: 12\n",
            "12 adalah angka positive\n",
            "masukan angka yang ingin di check: 0\n",
            "0 adalah angka nol(0)\n",
            "masukan angka yang ingin di check: -89\n",
            "-89 adalah angka negative\n"
          ]
        }
      ],
      "source": [
        "#check1\n",
        "def checkAngka1(N1):\n",
        "  return N1 + 0\n",
        " \n",
        "N1 = int(input('masukan angka postive yang ingin di check: '))\n",
        "hasil1 = checkAngka1(N1)\n",
        "if hasil1 >=0 :\n",
        "    print(f'{hasil1} adalah angka positive')\n",
        "\n",
        "#check2\n",
        "\n",
        "def checkAngka2(N2):\n",
        "  return N2 + 0\n",
        " \n",
        "N2 = int(input('masukan angka yang ingin di check: '))\n",
        "hasil2 = checkAngka2(N2)\n",
        "if hasil2==0:\n",
        "    print(f\"{hasil2} adalah angka nol(0)\" )\n",
        "\n",
        "\n",
        "#check3\n",
        "\n",
        "def checkAngka3(N3):\n",
        "  return N3 \n",
        " \n",
        "N3 = int(input('masukan angka negative yang ingin di check: '))\n",
        "hasil3 = checkAngka3(N3)\n",
        "if hasil3<=0:\n",
        "    print(f\"{hasil3} adalah angka negative\" )\n"
      ]
    },
    {
      "cell_type": "markdown",
      "metadata": {
        "id": "cJVkLq2Su9e-"
      },
      "source": [
        "<h3>Soal Latihan</h3>\n",
        "<ol>\n",
        "    <li>Buatlah fungsi untuk menjumlahkan total nilai dari list</li>\n",
        "    <li>Buatlah fungsi untuk mencari nilai terbesar dari sekumpulan list </li>\n",
        "    <li>Buatlah fungsi untuk menjumlahkan 2 buah list </li>\n",
        "</ol>\n"
      ]
    },
    {
      "cell_type": "code",
      "execution_count": 3,
      "metadata": {
        "colab": {
          "base_uri": "https://localhost:8080/"
        },
        "id": "jB-iX6Wgu9e-",
        "outputId": "f036498c-267e-4351-8fa1-fe55946179b5"
      },
      "outputs": [
        {
          "name": "stdout",
          "output_type": "stream",
          "text": [
            "663 adalah total jumlah dari list\n"
          ]
        }
      ],
      "source": [
        "#Soal 1\n",
        "def hitungJumlah1(list = [99, 564]):\n",
        "    totalJumlah1=list[0]+list[1]\n",
        "    print(f'{totalJumlah1} adalah total jumlah dari list')\n",
        "\n",
        "hitungJumlah1()"
      ]
    },
    {
      "cell_type": "code",
      "execution_count": 4,
      "metadata": {
        "colab": {
          "base_uri": "https://localhost:8080/"
        },
        "id": "m7vS5vKvu9e-",
        "outputId": "09021f93-3610-4734-888f-b5e628154b2a"
      },
      "outputs": [
        {
          "name": "stdout",
          "output_type": "stream",
          "text": [
            "564 adalah angka terbesar dalam list\n"
          ]
        }
      ],
      "source": [
        "#Soal 2\n",
        "def checkJumlah(listangka):\n",
        "    print(f'{max(listangka)} adalah angka terbesar dalam list')\n",
        "\n",
        "checkJumlah(listangka = [99, 564, 11, 69])"
      ]
    },
    {
      "cell_type": "code",
      "execution_count": 5,
      "metadata": {
        "colab": {
          "base_uri": "https://localhost:8080/"
        },
        "id": "9vLJCFRWu9e-",
        "outputId": "3db9d540-06b9-4b0a-a3e2-53f57777b3a1"
      },
      "outputs": [
        {
          "name": "stdout",
          "output_type": "stream",
          "text": [
            "1110 adalah total jumlah dari list\n"
          ]
        }
      ],
      "source": [
        "#Soal 3\n",
        "def hitungJumlah(list1 = [99, 564],list2= [11,436]):\n",
        "    totalJumlah=list1[0]+list1[1]+list2[0]+list2[1]\n",
        "    print(f'{totalJumlah} adalah total jumlah dari list')\n",
        "\n",
        "hitungJumlah()"
      ]
    }
  ],
  "metadata": {
    "colab": {
      "provenance": []
    },
    "kernelspec": {
      "display_name": "Python 3",
      "language": "python",
      "name": "python3"
    },
    "language_info": {
      "codemirror_mode": {
        "name": "ipython",
        "version": 3
      },
      "file_extension": ".py",
      "mimetype": "text/x-python",
      "name": "python",
      "nbconvert_exporter": "python",
      "pygments_lexer": "ipython3",
      "version": "3.9.6"
    },
    "vscode": {
      "interpreter": {
        "hash": "76991ef07934fbb12e30b49af96b01e7bb9b228ab9a36e2ef824b3f8b8556c07"
      }
    }
  },
  "nbformat": 4,
  "nbformat_minor": 0
}
